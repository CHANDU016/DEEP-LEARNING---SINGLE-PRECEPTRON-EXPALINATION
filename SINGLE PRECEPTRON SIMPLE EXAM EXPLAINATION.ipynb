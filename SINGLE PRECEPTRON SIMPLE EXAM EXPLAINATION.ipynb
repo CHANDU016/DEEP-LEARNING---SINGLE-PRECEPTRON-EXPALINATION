{
 "cells": [
  {
   "cell_type": "markdown",
   "id": "bf96b89b",
   "metadata": {},
   "source": [
    "## SINGLE PRECEPTRON PROJECT WITH SIMPLE EXPALINATION"
   ]
  },
  {
   "cell_type": "code",
   "execution_count": 1,
   "id": "9821b823",
   "metadata": {},
   "outputs": [
    {
     "name": "stdout",
     "output_type": "stream",
     "text": [
      "Predictions: [0 0]\n"
     ]
    }
   ],
   "source": [
    "import numpy as np\n",
    "\n",
    "# Step 1: Define the activation function (step function)\n",
    "def step_function(z):\n",
    "    return 1 if z >= 0 else 0\n",
    "\n",
    "# Step 2: Define the perceptron model\n",
    "class Perceptron:\n",
    "    def __init__(self, learning_rate=0.1, epochs=10):\n",
    "        self.lr = learning_rate  # Learning rate\n",
    "        self.epochs = epochs     # Number of iterations\n",
    "        self.weights = None      # To store weights\n",
    "        self.bias = None         # To store bias\n",
    "    \n",
    "    def train(self, X, y):\n",
    "        # Initialize weights and bias\n",
    "        self.weights = np.zeros(X.shape[1])  # Shape [n_features]\n",
    "        self.bias = 0\n",
    "        \n",
    "        # Step 3: Train the perceptron\n",
    "        for _ in range(self.epochs):\n",
    "            for idx, x_i in enumerate(X):\n",
    "                # Linear combination (weighted sum)\n",
    "                linear_output = np.dot(x_i, self.weights) + self.bias\n",
    "                # Apply step function\n",
    "                y_pred = step_function(linear_output)\n",
    "                \n",
    "                # Update rule: w = w + learning_rate * (y_true - y_pred) * x\n",
    "                update = self.lr * (y[idx] - y_pred)\n",
    "                self.weights += update * x_i\n",
    "                self.bias += update\n",
    "                \n",
    "    def predict(self, X):\n",
    "        # Apply the learned weights and bias to make predictions\n",
    "        linear_output = np.dot(X, self.weights) + self.bias\n",
    "        return np.array([step_function(i) for i in linear_output])\n",
    "\n",
    "# Step 4: Example dataset (Hours Studied, Hours Slept)\n",
    "X = np.array([[2, 9],    # Hours studied, hours slept\n",
    "              [1, 5],\n",
    "              [3, 6],\n",
    "              [4, 8],\n",
    "              [5, 2],\n",
    "              [6, 1]])\n",
    "\n",
    "# Labels (0 = Fail, 1 = Pass)\n",
    "y = np.array([1, 0, 1, 1, 0, 0])\n",
    "\n",
    "# Step 5: Initialize and train the perceptron\n",
    "perceptron = Perceptron(learning_rate=0.1, epochs=10)\n",
    "perceptron.train(X, y)\n",
    "\n",
    "# Step 6: Predict outcomes for new data\n",
    "test_data = np.array([[4, 7],  # New student: 4 hours studied, 7 hours slept\n",
    "                      [6, 0]]) # New student: 6 hours studied, 0 hours slept\n",
    "\n",
    "predictions = perceptron.predict(test_data)\n",
    "print(f\"Predictions: {predictions}\")"
   ]
  }
 ],
 "metadata": {
  "kernelspec": {
   "display_name": "Python 3 (ipykernel)",
   "language": "python",
   "name": "python3"
  },
  "language_info": {
   "codemirror_mode": {
    "name": "ipython",
    "version": 3
   },
   "file_extension": ".py",
   "mimetype": "text/x-python",
   "name": "python",
   "nbconvert_exporter": "python",
   "pygments_lexer": "ipython3",
   "version": "3.11.5"
  }
 },
 "nbformat": 4,
 "nbformat_minor": 5
}
